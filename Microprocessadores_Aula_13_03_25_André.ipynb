{
  "nbformat": 4,
  "nbformat_minor": 0,
  "metadata": {
    "colab": {
      "provenance": [],
      "authorship_tag": "ABX9TyPC6bFZj0Hu63adxFrcL+/J",
      "include_colab_link": true
    },
    "kernelspec": {
      "name": "python3",
      "display_name": "Python 3"
    },
    "language_info": {
      "name": "python"
    }
  },
  "cells": [
    {
      "cell_type": "markdown",
      "metadata": {
        "id": "view-in-github",
        "colab_type": "text"
      },
      "source": [
        "<a href=\"https://colab.research.google.com/github/miaguchi/aulas/blob/main/Microprocessadores_Aula_13_03_25_Andr%C3%A9.ipynb\" target=\"_parent\"><img src=\"https://colab.research.google.com/assets/colab-badge.svg\" alt=\"Open In Colab\"/></a>"
      ]
    },
    {
      "cell_type": "code",
      "execution_count": null,
      "metadata": {
        "id": "wx9EVYlIs-0i"
      },
      "outputs": [],
      "source": [
        "#include <LiquidCrystal.h> // Biblioteca para controle de displays LCD (não utilizada neste código)\n",
        "\n",
        "// Definição de variáveis globais\n",
        "int AD = 0;        // Armazena a leitura do sensor analógico\n",
        "//int Vermelho = 7;  // Pino do LED vermelho\n",
        "//int Amarelo = 6;   // Pino do LED amarelo\n",
        "//int Verde = 5;     // Pino do LED verde\n",
        "float volt = 0;    // Variável para armazenar a tensão convertida\n",
        "\n",
        "void setup()\n",
        "{\n",
        "  Serial.begin(9600);  // Inicializa a comunicação serial com velocidade de 9600 bps\n",
        "  pinMode(A0, INPUT);  // Configura o pino A0 como entrada para leitura analógica\n",
        "\n",
        "  //pinMode(Vermelho, OUTPUT); // Configura o pino do LED vermelho como saída\n",
        "  //pinMode(Amarelo, OUTPUT);  // Configura o pino do LED amarelo como saída\n",
        "  //(Verde, OUTPUT);    // Configura o pino do LED verde como saída\n",
        "}\n",
        "\n",
        "void loop()\n",
        "{\n",
        "  // Leitura do valor analógico no pino A0\n",
        "  AD = analogRead(A0);\n",
        "  Serial.print(\"AD = \");\n",
        "  Serial.println(AD);\n",
        "\n",
        "  // Conversão do valor lido para tensão (0V a 5V)\n",
        "  volt = ((float)AD / 1023) * 5;\n",
        "  Serial.print(\"Volt = \");\n",
        "  Serial.print(volt);\n",
        "  Serial.println(\" V\");\n",
        "\n",
        "  delay(200); // Pequena pausa para estabilização da leitura\n",
        "\n",
        "  // Controle dos LEDs com base na tensão lida\n",
        "  if (volt <= 2.49) {\n",
        "    digitalWrite(Vermelho, HIGH); // Acende o LED vermelho\n",
        "    digitalWrite(Amarelo, LOW);   // Apaga o LED amarelo\n",
        "    digitalWrite(Verde, LOW);     // Apaga o LED verde\n",
        "  }\n",
        "  else if (volt >= 2.50 && volt <= 3.99) {\n",
        "    digitalWrite(Amarelo, HIGH);  // Acende o LED amarelo\n",
        "    digitalWrite(Vermelho, LOW);  // Apaga o LED vermelho\n",
        "    digitalWrite(Verde, LOW);     // Apaga o LED verde\n",
        "  }\n",
        "  else if (volt >= 4.00 && volt <= 5.00) {\n",
        "    digitalWrite(Verde, HIGH);    // Acende o LED verde\n",
        "    digitalWrite(Vermelho, LOW);  // Apaga o LED vermelho\n",
        "    digitalWrite(Amarelo, LOW);   // Apaga o LED amarelo\n",
        "  }\n",
        "}"
      ]
    },
    {
      "cell_type": "markdown",
      "source": [],
      "metadata": {
        "id": "4dZqdz2vv64n"
      }
    }
  ]
}