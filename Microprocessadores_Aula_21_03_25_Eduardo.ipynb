{
  "nbformat": 4,
  "nbformat_minor": 0,
  "metadata": {
    "colab": {
      "provenance": [],
      "authorship_tag": "ABX9TyMDXyORO3A6hLehVzbns0ca",
      "include_colab_link": true
    },
    "kernelspec": {
      "name": "python3",
      "display_name": "Python 3"
    },
    "language_info": {
      "name": "python"
    }
  },
  "cells": [
    {
      "cell_type": "markdown",
      "metadata": {
        "id": "view-in-github",
        "colab_type": "text"
      },
      "source": [
        "<a href=\"https://colab.research.google.com/github/miaguchi/aulas/blob/main/Microprocessadores_Aula_21_03_25_Eduardo.ipynb\" target=\"_parent\"><img src=\"https://colab.research.google.com/assets/colab-badge.svg\" alt=\"Open In Colab\"/></a>"
      ]
    },
    {
      "cell_type": "code",
      "execution_count": null,
      "metadata": {
        "colab": {
          "base_uri": "https://localhost:8080/",
          "height": 106
        },
        "id": "TShpjSXSfvRk",
        "outputId": "ced3a6a9-3946-4ac0-d969-737f3a18ea4c"
      },
      "outputs": [
        {
          "output_type": "error",
          "ename": "SyntaxError",
          "evalue": "invalid syntax (<ipython-input-1-c3f6a252af64>, line 3)",
          "traceback": [
            "\u001b[0;36m  File \u001b[0;32m\"<ipython-input-1-c3f6a252af64>\"\u001b[0;36m, line \u001b[0;32m3\u001b[0m\n\u001b[0;31m    int main ()\u001b[0m\n\u001b[0m        ^\u001b[0m\n\u001b[0;31mSyntaxError\u001b[0m\u001b[0;31m:\u001b[0m invalid syntax\n"
          ]
        }
      ],
      "source": [
        "#include <stdio.h>\n",
        "\n",
        "int main ()\n",
        "{\n",
        "    float n1, n2, n3, media;\n",
        "    printf(\"Digite o primeiro numero: \");\n",
        "    scanf (\"%f\", &n1);\n",
        "    printf(\"Digite o segundo numero: \");\n",
        "    scanf (\"%f\", &n2);\n",
        "    printf(\"Digite o terceiro numero: \");\n",
        "    scanf (\"%f\", &n3);\n",
        "    media = (n1 + n2 + n3)/3;\n",
        "    printf(\"a media é %.3f\", media);\n",
        "\n",
        "    if (media >= 5) {\n",
        "        printf(\"aprovado\");\n",
        "        }\n",
        "    else (media>=3.5){\n",
        "        printf(\"recuperação\");\n",
        "        }\n",
        "    else (media <3.5){\n",
        "        printf(\"reprovado\");\n",
        "        }\n",
        "    }\n",
        "\n",
        "    return 0;\n",
        "}"
      ]
    }
  ]
}