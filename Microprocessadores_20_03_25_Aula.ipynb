{
  "nbformat": 4,
  "nbformat_minor": 0,
  "metadata": {
    "colab": {
      "provenance": [],
      "authorship_tag": "ABX9TyMHJxHtgAIPT9M7n3VMNpFe",
      "include_colab_link": true
    },
    "kernelspec": {
      "name": "python3",
      "display_name": "Python 3"
    },
    "language_info": {
      "name": "python"
    }
  },
  "cells": [
    {
      "cell_type": "markdown",
      "metadata": {
        "id": "view-in-github",
        "colab_type": "text"
      },
      "source": [
        "<a href=\"https://colab.research.google.com/github/miaguchi/aulas/blob/main/Microprocessadores_20_03_25_Aula.ipynb\" target=\"_parent\"><img src=\"https://colab.research.google.com/assets/colab-badge.svg\" alt=\"Open In Colab\"/></a>"
      ]
    },
    {
      "cell_type": "code",
      "execution_count": null,
      "metadata": {
        "id": "1DuikEkcxdYD"
      },
      "outputs": [],
      "source": [
        "int brightness = 0;\n",
        "int AD=0;\n",
        "\n",
        "\n",
        "void setup ()\n",
        "{\n",
        "  pinMode (9, OUTPUT);\n",
        "}\n",
        "void loop ()\n",
        "{\n",
        "  for (brightness = 0; brightness <= 255; brightness +=5){\n",
        "    analogWrite(9, brightness);\n",
        "  delay(100);\n",
        "\t}\n",
        "  for (brightness = 255; brightness >= 0; brightness -=5){\n",
        "    analogWrite (9,brightness);\n",
        "    delay(100);\n",
        "\n",
        "  }\n",
        "}"
      ]
    }
  ]
}