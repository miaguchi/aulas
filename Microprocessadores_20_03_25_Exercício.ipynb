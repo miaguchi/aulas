{
  "nbformat": 4,
  "nbformat_minor": 0,
  "metadata": {
    "colab": {
      "provenance": [],
      "authorship_tag": "ABX9TyPMqYkc7FJnUb6fQx741PoP",
      "include_colab_link": true
    },
    "kernelspec": {
      "name": "python3",
      "display_name": "Python 3"
    },
    "language_info": {
      "name": "python"
    }
  },
  "cells": [
    {
      "cell_type": "markdown",
      "metadata": {
        "id": "view-in-github",
        "colab_type": "text"
      },
      "source": [
        "<a href=\"https://colab.research.google.com/github/miaguchi/aulas/blob/main/Microprocessadores_20_03_25_Exerc%C3%ADcio.ipynb\" target=\"_parent\"><img src=\"https://colab.research.google.com/assets/colab-badge.svg\" alt=\"Open In Colab\"/></a>"
      ]
    },
    {
      "cell_type": "code",
      "execution_count": null,
      "metadata": {
        "id": "ybjuUOOOv-HC"
      },
      "outputs": [],
      "source": [
        "int brightness = 0;\n",
        "int pwmpin = 9;\n",
        "float volt = 0;\n",
        "\n",
        "void setup ()\n",
        "{\n",
        "  Serial.begin(9600);  // Inicializa a comunicação serial com velocidade de 9600 bps\n",
        "  pinMode(A0, INPUT);  // Configura o pino A0 como entrada para leitura analógica\n",
        "  pinMode (9, OUTPUT);\n",
        "}\n",
        "void loop ()\n",
        "{\n",
        "    AD = analogRead (A0);\n",
        "    volt = ((float)AD / 1023) * 5;\n",
        "    Serial.print(\"Volt = \");\n",
        "    Serial.print(volt);\n",
        "    Serial.println(\" V\");\n",
        "\n",
        "  for (brightness = 0; brightness <= 255; brightness +=5){\n",
        "    analogWrite(9, brightness);\n",
        "  delay(100);\n",
        "\t}\n",
        "  for (brightness = 255; brightness >= 0; brightness -=5){\n",
        "    analogWrite (9,brightness);\n",
        "    delay(100);\n",
        "\n",
        "  }\n",
        "}"
      ]
    }
  ]
}