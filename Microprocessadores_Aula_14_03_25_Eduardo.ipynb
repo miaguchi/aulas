{
  "nbformat": 4,
  "nbformat_minor": 0,
  "metadata": {
    "colab": {
      "provenance": [],
      "authorship_tag": "ABX9TyP65TKs8KlVpaS8n+O4FGbT",
      "include_colab_link": true
    },
    "kernelspec": {
      "name": "python3",
      "display_name": "Python 3"
    },
    "language_info": {
      "name": "python"
    }
  },
  "cells": [
    {
      "cell_type": "markdown",
      "metadata": {
        "id": "view-in-github",
        "colab_type": "text"
      },
      "source": [
        "<a href=\"https://colab.research.google.com/github/miaguchi/aulas/blob/main/Microprocessadores_Aula_14_03_25_Eduardo.ipynb\" target=\"_parent\"><img src=\"https://colab.research.google.com/assets/colab-badge.svg\" alt=\"Open In Colab\"/></a>"
      ]
    },
    {
      "cell_type": "code",
      "execution_count": null,
      "metadata": {
        "id": "x4YeP0dYfc0F"
      },
      "outputs": [],
      "source": [
        "#include <stdio.h>\n",
        "\n",
        "int main()\n",
        "{\n",
        "    int a = 10, b = 3; // Definindo valores inteiros\n",
        "    int Soma = 0, Sub = 0, Mult = 0, Div = 0, Resto = 0;\n",
        "    float Div_completa = 0;\n",
        "\n",
        "    Soma = a + b;\n",
        "    Sub  = a - b;\n",
        "    Mult = a * b;\n",
        "    Div  = a / b;\n",
        "    Resto= a % b;\n",
        "    Div_completa = a / b;\n",
        "\n",
        "    printf(\"Resultados: \\nSoma:%d \\nSub: %d \\nMult:%d \\nDiv:%d \\nResto:\\%d\", Soma, Sub, Mult, Div, Resto);\n",
        "    printf(\"\\nDiv_completa:%.3f\", Div_completa);\n",
        "\n",
        "\n",
        "\n",
        "\n",
        "\n",
        "    return 0;\n",
        "}"
      ]
    }
  ]
}